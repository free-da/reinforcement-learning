{
 "cells": [
  {
   "cell_type": "code",
   "execution_count": 14,
   "id": "f7ef52f8",
   "metadata": {},
   "outputs": [],
   "source": [
    "import gym\n",
    "import time\n",
    "\n",
    "env = gym.make('MountainCar-v0')\n",
    "epic_len = 300\n",
    "env.reset()\n",
    "\n",
    "# random action for nonzero initial velocity\n",
    "obs = env.step(env.action_space.sample())\n",
    "\n",
    "for step in range(epic_len):\n",
    "\n",
    "    # strategy\n",
    "    if obs[1] < 0:\n",
    "        action = 0\n",
    "    else:\n",
    "        action = 2\n",
    "\n",
    "    # apply action\n",
    "    obs, reward, done, info = env.step(action)\n",
    "\n",
    "    # render\n",
    "    env.render()\n",
    "    time.sleep(0.001)\n",
    "\n",
    "    # restart if done before end of movie\n",
    "    if done:\n",
    "        env.reset()\n",
    "\n",
    "env.close()"
   ]
  },
  {
   "cell_type": "code",
   "execution_count": null,
   "id": "d07bf557",
   "metadata": {},
   "outputs": [],
   "source": []
  }
 ],
 "metadata": {
  "kernelspec": {
   "display_name": "Python 3 (ipykernel)",
   "language": "python",
   "name": "python3"
  },
  "language_info": {
   "codemirror_mode": {
    "name": "ipython",
    "version": 3
   },
   "file_extension": ".py",
   "mimetype": "text/x-python",
   "name": "python",
   "nbconvert_exporter": "python",
   "pygments_lexer": "ipython3",
   "version": "3.9.12"
  }
 },
 "nbformat": 4,
 "nbformat_minor": 5
}
